{
 "cells": [
  {
   "cell_type": "code",
   "execution_count": null,
   "id": "d042fb5d-a056-423d-8dd1-def6de138e95",
   "metadata": {},
   "outputs": [],
   "source": []
  }
 ],
 "metadata": {
  "kernelspec": {
   "display_name": "",
   "name": ""
  },
  "language_info": {
   "name": ""
  }
 },
 "nbformat": 4,
 "nbformat_minor": 5
}
